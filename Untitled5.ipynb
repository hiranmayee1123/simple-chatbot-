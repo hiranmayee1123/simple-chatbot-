{
  "nbformat": 4,
  "nbformat_minor": 0,
  "metadata": {
    "colab": {
      "name": "Untitled5.ipynb",
      "provenance": []
    },
    "kernelspec": {
      "name": "python3",
      "display_name": "Python 3"
    },
    "language_info": {
      "name": "python"
    }
  },
  "cells": [
    {
      "cell_type": "code",
      "metadata": {
        "colab": {
          "base_uri": "https://localhost:8080/"
        },
        "id": "_drlxWUXEYyT",
        "outputId": "28edbc79-2515-4d51-da46-4fc9725305a1"
      },
      "source": [
        "pip install chatterbot"
      ],
      "execution_count": 1,
      "outputs": [
        {
          "output_type": "stream",
          "text": [
            "Collecting chatterbot\n",
            "  Downloading ChatterBot-1.0.8-py2.py3-none-any.whl (63 kB)\n",
            "\u001b[?25l\r\u001b[K     |█████▏                          | 10 kB 23.4 MB/s eta 0:00:01\r\u001b[K     |██████████▎                     | 20 kB 27.4 MB/s eta 0:00:01\r\u001b[K     |███████████████▌                | 30 kB 24.1 MB/s eta 0:00:01\r\u001b[K     |████████████████████▋           | 40 kB 18.0 MB/s eta 0:00:01\r\u001b[K     |█████████████████████████▊      | 51 kB 7.9 MB/s eta 0:00:01\r\u001b[K     |███████████████████████████████ | 61 kB 8.9 MB/s eta 0:00:01\r\u001b[K     |████████████████████████████████| 63 kB 1.6 MB/s \n",
            "\u001b[?25hRequirement already satisfied: pytz in /usr/local/lib/python3.7/dist-packages (from chatterbot) (2018.9)\n",
            "Collecting mathparse<0.2,>=0.1\n",
            "  Downloading mathparse-0.1.2-py3-none-any.whl (7.2 kB)\n",
            "Requirement already satisfied: python-dateutil<2.9,>=2.8 in /usr/local/lib/python3.7/dist-packages (from chatterbot) (2.8.1)\n",
            "Collecting sqlalchemy<1.4,>=1.3\n",
            "  Downloading SQLAlchemy-1.3.24-cp37-cp37m-manylinux2010_x86_64.whl (1.3 MB)\n",
            "\u001b[K     |████████████████████████████████| 1.3 MB 13.0 MB/s \n",
            "\u001b[?25hRequirement already satisfied: six>=1.5 in /usr/local/lib/python3.7/dist-packages (from python-dateutil<2.9,>=2.8->chatterbot) (1.15.0)\n",
            "Installing collected packages: sqlalchemy, mathparse, chatterbot\n",
            "  Attempting uninstall: sqlalchemy\n",
            "    Found existing installation: SQLAlchemy 1.4.20\n",
            "    Uninstalling SQLAlchemy-1.4.20:\n",
            "      Successfully uninstalled SQLAlchemy-1.4.20\n",
            "Successfully installed chatterbot-1.0.8 mathparse-0.1.2 sqlalchemy-1.3.24\n"
          ],
          "name": "stdout"
        }
      ]
    },
    {
      "cell_type": "code",
      "metadata": {
        "colab": {
          "base_uri": "https://localhost:8080/"
        },
        "id": "NbAIDWw-P93d",
        "outputId": "033dc5cf-04a0-4b66-df00-df2df11f0e0b"
      },
      "source": [
        "pip install chatterbot_corpus"
      ],
      "execution_count": 2,
      "outputs": [
        {
          "output_type": "stream",
          "text": [
            "Collecting chatterbot_corpus\n",
            "  Downloading chatterbot_corpus-1.2.0-py2.py3-none-any.whl (117 kB)\n",
            "\u001b[?25l\r\u001b[K     |██▉                             | 10 kB 23.5 MB/s eta 0:00:01\r\u001b[K     |█████▋                          | 20 kB 27.0 MB/s eta 0:00:01\r\u001b[K     |████████▍                       | 30 kB 32.1 MB/s eta 0:00:01\r\u001b[K     |███████████▏                    | 40 kB 23.5 MB/s eta 0:00:01\r\u001b[K     |██████████████                  | 51 kB 7.8 MB/s eta 0:00:01\r\u001b[K     |████████████████▊               | 61 kB 9.0 MB/s eta 0:00:01\r\u001b[K     |███████████████████▋            | 71 kB 8.3 MB/s eta 0:00:01\r\u001b[K     |██████████████████████▍         | 81 kB 9.2 MB/s eta 0:00:01\r\u001b[K     |█████████████████████████▏      | 92 kB 10.2 MB/s eta 0:00:01\r\u001b[K     |████████████████████████████    | 102 kB 8.1 MB/s eta 0:00:01\r\u001b[K     |██████████████████████████████▊ | 112 kB 8.1 MB/s eta 0:00:01\r\u001b[K     |████████████████████████████████| 117 kB 8.1 MB/s \n",
            "\u001b[?25hRequirement already satisfied: PyYAML<4.0,>=3.12 in /usr/local/lib/python3.7/dist-packages (from chatterbot_corpus) (3.13)\n",
            "Installing collected packages: chatterbot-corpus\n",
            "Successfully installed chatterbot-corpus-1.2.0\n"
          ],
          "name": "stdout"
        }
      ]
    },
    {
      "cell_type": "code",
      "metadata": {
        "id": "QaZ5EZBoQAuo"
      },
      "source": [
        "from chatterbot import ChatBot\n"
      ],
      "execution_count": 3,
      "outputs": []
    },
    {
      "cell_type": "code",
      "metadata": {
        "id": "GVCq5aPlQIUv"
      },
      "source": [
        "bot = ChatBot('heydude')"
      ],
      "execution_count": 5,
      "outputs": []
    },
    {
      "cell_type": "code",
      "metadata": {
        "id": "7-Vki7C4QNZ7"
      },
      "source": [
        "bot = ChatBot(\n",
        "    'heydude',\n",
        "    storage_adapter='chatterbot.storage.SQLStorageAdapter',\n",
        "    database_uri='sqlite:///database.sqlite3'\n",
        ")"
      ],
      "execution_count": 6,
      "outputs": []
    },
    {
      "cell_type": "code",
      "metadata": {
        "id": "El1qimkKQVx-"
      },
      "source": [
        "bot = ChatBot(\n",
        "    'heydude',  \n",
        "    logic_adapters=[\n",
        "        'chatterbot.logic.BestMatch',\n",
        "        'chatterbot.logic.TimeLogicAdapter'],\n",
        ")"
      ],
      "execution_count": 7,
      "outputs": []
    },
    {
      "cell_type": "code",
      "metadata": {
        "colab": {
          "base_uri": "https://localhost:8080/"
        },
        "id": "S-crlmaeQZ6N",
        "outputId": "cb1406ca-959e-49f6-bdc0-90feb61a738f"
      },
      "source": [
        "from chatterbot.trainers import ListTrainer\n",
        "\n",
        "trainer = ListTrainer(bot)\n",
        "\n",
        "trainer.train([\n",
        "'Hi',\n",
        "'Hello',\n",
        "'I need your assistance regarding my order',\n",
        "'Please, Provide me with your order id',\n",
        "'I have a complaint.',\n",
        "'Please elaborate, your concern',\n",
        "'How long it will take to receive an order ?',\n",
        "'An order takes 3-5 Business days to get delivered.',\n",
        "'Okay Thanks',\n",
        "'No Problem! Have a Good Day!'\n",
        "])"
      ],
      "execution_count": 8,
      "outputs": [
        {
          "output_type": "stream",
          "text": [
            "List Trainer: [####################] 100%\n"
          ],
          "name": "stdout"
        }
      ]
    },
    {
      "cell_type": "code",
      "metadata": {
        "colab": {
          "base_uri": "https://localhost:8080/"
        },
        "id": "ONKWfNpXQdMS",
        "outputId": "95ccdce7-7b36-4446-e1da-f05d37d3a35e"
      },
      "source": [
        "response = bot.get_response('I have a complaint.')\n",
        "\n",
        "print(\"Bot Response:\", response)"
      ],
      "execution_count": 9,
      "outputs": [
        {
          "output_type": "stream",
          "text": [
            "Bot Response: Please elaborate, your concern\n"
          ],
          "name": "stdout"
        }
      ]
    },
    {
      "cell_type": "code",
      "metadata": {
        "colab": {
          "base_uri": "https://localhost:8080/"
        },
        "id": "AiazSWdDQjiy",
        "outputId": "00e9bd95-a45c-4dae-fcd7-ed637b87df8d"
      },
      "source": [
        "name=input(\"Enter Your Name: \")\n",
        "print(\"Welcome to the Bot Service! Let me know how can I help you?\")\n",
        "while True:\n",
        "    request=input(name+':')\n",
        "    if request=='Bye' or request =='bye':\n",
        "        print('Bot: Bye')\n",
        "        break\n",
        "    else:\n",
        "        response=bot.get_response(request)\n",
        "        print('Bot:',response)"
      ],
      "execution_count": 11,
      "outputs": [
        {
          "output_type": "stream",
          "text": [
            "Enter Your Name: mini\n",
            "Welcome to the Bot Service! Let me know how can I help you?\n",
            "mini:I need your assistance regarding your order id\n",
            "Bot: Please, Provide me with your order id\n",
            "mini:5678\n",
            "Bot: The current time is 04:06 PM\n",
            "mini:bye\n",
            "Bot: Bye\n"
          ],
          "name": "stdout"
        }
      ]
    },
    {
      "cell_type": "code",
      "metadata": {
        "id": "Cfb5AmK3Q5cN"
      },
      "source": [
        ""
      ],
      "execution_count": null,
      "outputs": []
    }
  ]
}